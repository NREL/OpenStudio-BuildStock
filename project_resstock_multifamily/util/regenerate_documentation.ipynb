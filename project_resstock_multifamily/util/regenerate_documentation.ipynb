{
 "cells": [
  {
   "cell_type": "markdown",
   "metadata": {},
   "source": [
    "# Regenerate Project Documentaion\n",
    "\n",
    "This notebook regenerates the documentation in the multifamily project.  Specifically the notebook run a set of other scripts that regenerates the following:\n",
    "\n",
    "1. Updates the options and dependency list in the `housing characteristic info.json` file based on what is currently in the TSV files.\n",
    "2. The dependency wheels in `dependencyWheels` which show the dependencies and dependents of the housing characteristics for this project.\n",
    "3. The dependency graphs in `dependencyGraphs` which shows the graph of characteristics and their dependencies to help identify high and lower levels of housing characteristics\n",
    "4. The data source Sankey diagram in `sankeyDiagram` which shows the data sources used to create the housing characteristics distriubtions and measure input arguments.\n",
    "5. Converts the data sources in the `housing characteristic info.json` into tabular form in `dataSourceTable`.\n",
    "6. Updates the project README.md file with the `housing characteristic info.json` file and the base file in `projectReadmeFile`.\n",
    "\n",
    "## 1. Update the Dependencies and Options in the JSON file"
   ]
  },
  {
   "cell_type": "code",
   "execution_count": null,
   "metadata": {},
   "outputs": [],
   "source": [
    "%cd updateJsonDepsOpts\n",
    "%run ./update_options_dependencies_in_hc_info_json.ipynb\n",
    "%cd .."
   ]
  },
  {
   "cell_type": "markdown",
   "metadata": {},
   "source": [
    "## 2. Regenerate the Dependency Wheels"
   ]
  },
  {
   "cell_type": "code",
   "execution_count": null,
   "metadata": {},
   "outputs": [],
   "source": [
    "%%capture\n",
    "%cd dependencyWheels\n",
    "%run ./createDependencyWheelData.ipynb\n",
    "%cd .."
   ]
  },
  {
   "cell_type": "markdown",
   "metadata": {},
   "source": [
    "## 3. Regenerate the Dependency Graphs"
   ]
  },
  {
   "cell_type": "code",
   "execution_count": null,
   "metadata": {},
   "outputs": [],
   "source": [
    "%%capture\n",
    "%cd dependencyGraphs\n",
    "%run ./Dependency_Graphs.ipynb\n",
    "%cd .."
   ]
  },
  {
   "cell_type": "markdown",
   "metadata": {},
   "source": [
    "## 4. Regenerate the Sankey Diagram"
   ]
  },
  {
   "cell_type": "code",
   "execution_count": null,
   "metadata": {},
   "outputs": [],
   "source": [
    "%%capture\n",
    "%cd sankeyDiagram\n",
    "%run ./createSankeyDiagram.ipynb\n",
    "%cd .."
   ]
  },
  {
   "cell_type": "markdown",
   "metadata": {},
   "source": [
    "## 5. Convert Data Sources to Tabular Form"
   ]
  },
  {
   "cell_type": "code",
   "execution_count": null,
   "metadata": {},
   "outputs": [],
   "source": [
    "%%capture\n",
    "%cd dataSourceTable\n",
    "%run ./convert_data_sources_json_to_table.ipynb\n",
    "%cd .."
   ]
  },
  {
   "cell_type": "markdown",
   "metadata": {},
   "source": [
    "## 6. Update Project `README.md`"
   ]
  },
  {
   "cell_type": "code",
   "execution_count": null,
   "metadata": {},
   "outputs": [],
   "source": [
    "%%capture\n",
    "%cd projectReadmeFile\n",
    "%run ./createProjectReadmeFile.ipynb\n",
    "%cd .."
   ]
  },
  {
   "cell_type": "code",
   "execution_count": null,
   "metadata": {},
   "outputs": [],
   "source": []
  },
  {
   "cell_type": "code",
   "execution_count": null,
   "metadata": {},
   "outputs": [],
   "source": []
  },
  {
   "cell_type": "code",
   "execution_count": null,
   "metadata": {},
   "outputs": [],
   "source": []
  }
 ],
 "metadata": {
  "kernelspec": {
   "display_name": "Python 3",
   "language": "python",
   "name": "python3"
  },
  "language_info": {
   "codemirror_mode": {
    "name": "ipython",
    "version": 3
   },
   "file_extension": ".py",
   "mimetype": "text/x-python",
   "name": "python",
   "nbconvert_exporter": "python",
   "pygments_lexer": "ipython3",
   "version": "3.6.4"
  }
 },
 "nbformat": 4,
 "nbformat_minor": 2
}
