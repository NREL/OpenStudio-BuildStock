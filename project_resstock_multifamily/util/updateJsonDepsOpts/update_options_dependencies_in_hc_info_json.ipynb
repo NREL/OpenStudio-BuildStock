{
 "cells": [
  {
   "cell_type": "markdown",
   "metadata": {},
   "source": [
    "# Update the Options and Dependencies in the Housing Characteristics JSON File\n",
    "\n",
    "**Author:** Anthony Fontanini\n",
    "    \n",
    "**Date:** January 10, 2019\n",
    "\n",
    "This notebook updates the `<project_folder>/util/housing characteristics info.json` file. The file checks to make sure that the housing characteristics in the `<project_folder>/housing_characteristics` are in the documentation, then updates the options and the dependency list based on the TSV files.  \n",
    "\n",
    "**Warning:** If the housing characteristic TSV cannot be found in the `housing characteristics info.json` file, a warning will be printed but the script will continue to execute.\n",
    "\n",
    "## Import Modules"
   ]
  },
  {
   "cell_type": "code",
   "execution_count": 1,
   "metadata": {},
   "outputs": [],
   "source": [
    "import json\n",
    "import numpy as np\n",
    "from os import listdir\n",
    "from os.path import isfile, join"
   ]
  },
  {
   "cell_type": "markdown",
   "metadata": {},
   "source": [
    "## Function Definition"
   ]
  },
  {
   "cell_type": "code",
   "execution_count": 2,
   "metadata": {},
   "outputs": [],
   "source": [
    "def getDependenciesAndOptions(filepath):\n",
    "    # Get first line in TSV file\n",
    "    with open(filepath) as f:\n",
    "        header = f.readline()\n",
    "\n",
    "    # Check for Dependency or Option in each entry of the header\n",
    "    dependencies = list()\n",
    "    options = list()\n",
    "    for column in header.split('\\t'):\n",
    "\n",
    "        # If dependency, append dependency list\n",
    "        if (column[0] == 'D'):\n",
    "            dependencies.append( column.split('=')[1].split('\\n')[0] )\n",
    "        elif (column[0] == 'O'):\n",
    "            options.append( column.split('=')[1].split('\\n')[0] )\n",
    "\n",
    "    # If empty assign none\n",
    "    if len(dependencies) == 0:\n",
    "        dependencies = ['None']\n",
    "    if len(options) == 0:\n",
    "        options = ['None']\n",
    "    \n",
    "    return dependencies,options"
   ]
  },
  {
   "cell_type": "markdown",
   "metadata": {},
   "source": [
    "## Get the housing characteristics"
   ]
  },
  {
   "cell_type": "code",
   "execution_count": 3,
   "metadata": {},
   "outputs": [],
   "source": [
    "hc_path = join('..','..','housing_characteristics')\n",
    "hc_names = [f.split('.')[0] for f in listdir(hc_path) if isfile(join(hc_path,f))]"
   ]
  },
  {
   "cell_type": "markdown",
   "metadata": {},
   "source": [
    "## Load the JSON file"
   ]
  },
  {
   "cell_type": "code",
   "execution_count": 4,
   "metadata": {},
   "outputs": [],
   "source": [
    "with open(join('..','housing characteristics info.json')) as f:\n",
    "    data = json.load(f)"
   ]
  },
  {
   "cell_type": "markdown",
   "metadata": {},
   "source": [
    "## Replace the dependencies and options in the data structure"
   ]
  },
  {
   "cell_type": "code",
   "execution_count": 5,
   "metadata": {},
   "outputs": [],
   "source": [
    "# Get the housing characteristic names from the JSON file\n",
    "json_hc_names = np.array([ data['characteristics'][i]['name'] for i in range(len(data['characteristics']))])\n",
    "\n",
    "# For each housing characteristic in the TSV directory\n",
    "for i in range(len(hc_names)):\n",
    "    \n",
    "    # Get Dependencies and Options for TSV file\n",
    "    dependencies,options = getDependenciesAndOptions( join(hc_path,hc_names[i] + '.tsv') )\n",
    "\n",
    "    # Check to see if the housing characteristic is present in JSON File\n",
    "    idx = np.where( json_hc_names == hc_names[i])[0]\n",
    "    if len(idx) == 0:\n",
    "        print(\"WARNING: %s not found in json file.\" % hc_names[i] )\n",
    "    elif (len(idx) > 1):\n",
    "        print(\"WARNING: %s has multiple entries in json file.\" % hc_names[i])\n",
    "    else:\n",
    "        # Set the options and the dependencies\n",
    "        data['characteristics'][idx[0]]['features']['options'] = options\n",
    "        data['characteristics'][idx[0]]['features']['dependencies'] = dependencies\n"
   ]
  },
  {
   "cell_type": "markdown",
   "metadata": {},
   "source": [
    "## Write JSON file"
   ]
  },
  {
   "cell_type": "code",
   "execution_count": 6,
   "metadata": {},
   "outputs": [],
   "source": [
    "with open(join('..','housing characteristics info.json'), 'w') as outfile:\n",
    "    json.dump(data, outfile, indent=4, separators=(',', ': '))"
   ]
  },
  {
   "cell_type": "code",
   "execution_count": null,
   "metadata": {},
   "outputs": [],
   "source": []
  },
  {
   "cell_type": "code",
   "execution_count": null,
   "metadata": {},
   "outputs": [],
   "source": []
  },
  {
   "cell_type": "code",
   "execution_count": null,
   "metadata": {},
   "outputs": [],
   "source": []
  }
 ],
 "metadata": {
  "kernelspec": {
   "display_name": "Python 3",
   "language": "python",
   "name": "python3"
  },
  "language_info": {
   "codemirror_mode": {
    "name": "ipython",
    "version": 3
   },
   "file_extension": ".py",
   "mimetype": "text/x-python",
   "name": "python",
   "nbconvert_exporter": "python",
   "pygments_lexer": "ipython3",
   "version": "3.6.4"
  }
 },
 "nbformat": 4,
 "nbformat_minor": 2
}
